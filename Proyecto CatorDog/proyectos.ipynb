{
  "cells": [
    {
      "cell_type": "markdown",
      "metadata": {
        "id": "FcBj8oqlBm1W"
      },
      "source": [
        "<a href=\"https://www.inove.com.ar\"><img src=\"https://raw.githubusercontent.com/InoveAlumnos/dataset_analytics_python/master/images/PA%20Banner.png\" width=\"1000\" align=\"center\"></a>\n",
        "\n",
        "\n",
        "# Proyectos\n",
        "\n",
        "Proyectos propuestos para Python Analytics<br>\n",
        "v1.5"
      ]
    },
    {
      "cell_type": "markdown",
      "metadata": {
        "id": "mfnI5-sJDqwl"
      },
      "source": [
        "### Formato de entrega\n",
        "Toda la etapa de entrenamiento del proyecto se debe realizar en un colab o nootebook que luego el alumno subierá a su repositorio de proyecto para que el profesor pueda evaluar los avances.<br>\n",
        "\n",
        "__APROBACIÓN:__ El proyecto será aprobado cuando el modelo entrenado alcance la exactitud/condición planteada en el proyecto.<br>"
      ]
    },
    {
      "cell_type": "markdown",
      "metadata": {
        "id": "UFwBQ2uetL5M"
      },
      "source": [
        "### Clasificación de imagenes de perros y gatos\n",
        "<img src=\"https://raw.githubusercontent.com/InoveAlumnos/proyecto_analytics_python/main/cat_dog.jpg\" width=\"600\" align=\"center\">"
      ]
    },
    {
      "cell_type": "markdown",
      "metadata": {
        "id": "vVuFtzket36w"
      },
      "source": [
        "- El objetivo es entrenar una red neuronal CNN para clasificar imagenes a color de gatos y perros.\n",
        "- Se debe crear un modelo de CNN propio, no demasiado complejo o grande para no demorar más de 15 minutos el entrenamiento (tope máximo sugerido). Recomendamos utilizar colab con GPU para reducir los tiempos al mínimo.\n",
        "- El modelo CNN armado propio debe tener una precisión entre 0.25 y 0.4 de accuracy.\n",
        "- Deberá utilizan transfer learning con las redes VGG16 o ResNet50 para alcanzar el verdadero valor objetivo de accuracy.\n",
        "- Por último, utilizar la red con al menos 2 imagenes (de perros y gatos) para introducir en su red y ver como se comporta."
      ]
    },
    {
      "cell_type": "markdown",
      "metadata": {
        "id": "tY8I31zcuf8x"
      },
      "source": [
        "#### Objetivo"
      ]
    },
    {
      "cell_type": "markdown",
      "metadata": {
        "id": "_92Av_squgXr"
      },
      "source": [
        "El accuracy del modelo entrenado con transfer learning debe superar el 70%"
      ]
    },
    {
      "cell_type": "markdown",
      "metadata": {
        "id": "SoCA5ysousR0"
      },
      "source": [
        "#### Como descargar el dataset"
      ]
    },
    {
      "cell_type": "code",
      "execution_count": 1,
      "metadata": {
        "id": "-_oumrEpus1_"
      },
      "outputs": [
        {
          "name": "stderr",
          "output_type": "stream",
          "text": [
            "\"wget\" no se reconoce como un comando interno o externo,\n",
            "programa o archivo por lotes ejecutable.\n"
          ]
        },
        {
          "name": "stderr",
          "output_type": "stream",
          "text": [
            "\"unzip\" no se reconoce como un comando interno o externo,\n",
            "programa o archivo por lotes ejecutable.\n"
          ]
        }
      ],
      "source": [
        "# Ejecutar\n",
        "!wget --no-check-certificate \\\n",
        "  https://storage.googleapis.com/mledu-datasets/cats_and_dogs_filtered.zip \\\n",
        "  -O cats_and_dogs_filtered.zip\n",
        "\n",
        "!unzip -q cats_and_dogs_filtered.zip"
      ]
    },
    {
      "cell_type": "markdown",
      "metadata": {},
      "source": [
        "Descargue el dataset de una forma alternativa pero son las mismas imagenes de entrenamiento y validación."
      ]
    },
    {
      "cell_type": "code",
      "execution_count": 1,
      "metadata": {
        "id": "LCixAO1ZvWqV"
      },
      "outputs": [],
      "source": [
        "train_dir = \"cats_and_dogs_filtered/train\"\n",
        "validation_dir = \"cats_and_dogs_filtered/validation\""
      ]
    }
  ],
  "metadata": {
    "colab": {
      "provenance": []
    },
    "kernelspec": {
      "display_name": "Python 3",
      "name": "python3"
    },
    "language_info": {
      "codemirror_mode": {
        "name": "ipython",
        "version": 3
      },
      "file_extension": ".py",
      "mimetype": "text/x-python",
      "name": "python",
      "nbconvert_exporter": "python",
      "pygments_lexer": "ipython3",
      "version": "3.10.11"
    }
  },
  "nbformat": 4,
  "nbformat_minor": 0
}
